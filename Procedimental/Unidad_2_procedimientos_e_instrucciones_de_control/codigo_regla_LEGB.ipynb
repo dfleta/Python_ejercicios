{
 "metadata": {
  "language_info": {
   "codemirror_mode": {
    "name": "ipython",
    "version": 3
   },
   "file_extension": ".py",
   "mimetype": "text/x-python",
   "name": "python",
   "nbconvert_exporter": "python",
   "pygments_lexer": "ipython3",
   "version": "3.6.9-final"
  },
  "orig_nbformat": 2,
  "kernelspec": {
   "name": "python36964bit726dce05b3144e9e80719d87a8e14857",
   "display_name": "Python 3.6.9 64-bit"
  }
 },
 "nbformat": 4,
 "nbformat_minor": 2,
 "cells": [
  {
   "source": [
    "Chapter 17: Scopes\n",
    "==================\n",
    "#### Extractos de codigo del libro Learning Python 5th Ed. by Mark Lutz \n",
    "\n",
    "## GLOBAL SCOPE\n",
    "\n",
    "- Global names are variables assigned at the top level of the enclosing module file.\n",
    "- Global names must be declared only if they are assigned within a function.\n",
    "- Global names may be referenced within a function without being declared."
   ],
   "cell_type": "markdown",
   "metadata": {}
  },
  {
   "cell_type": "code",
   "execution_count": 4,
   "metadata": {},
   "outputs": [
    {
     "output_type": "stream",
     "name": "stdout",
     "text": [
      "88\n"
     ]
    }
   ],
   "source": [
    "x = 88 # Global X\n",
    "\n",
    "def func():\n",
    "\tx = 99 # Local X: hides global, but we want this here\n",
    "\n",
    "func()\n",
    "print(x) # Prints 88: unchanged"
   ]
  },
  {
   "cell_type": "code",
   "execution_count": 13,
   "metadata": {},
   "outputs": [
    {
     "output_type": "stream",
     "name": "stdout",
     "text": [
      "x = 99\n"
     ]
    }
   ],
   "source": [
    "x = 88 # Global X\n",
    "\n",
    "def func():\n",
    "\tglobal x\n",
    "\tx = 99 # Global X: outside def\n",
    "\n",
    "func()\n",
    "print(\"x =\", x) # Prints 99\n"
   ]
  },
  {
   "source": [
    "## LEGB rule"
   ],
   "cell_type": "markdown",
   "metadata": {}
  },
  {
   "cell_type": "code",
   "execution_count": 1,
   "metadata": {},
   "outputs": [
    {
     "output_type": "stream",
     "name": "stdout",
     "text": [
      "x = 3, y = 1, z = 2\n"
     ]
    }
   ],
   "source": [
    "# Global names may be referenced within a function without being declared.\n",
    "\n",
    "y, z = 1, 2         # Global variables in module\n",
    "\n",
    "def all_global():\n",
    "\tglobal x        # Declare globals assigned\n",
    "\tx = y + z       # No need to declare y, z: LEGB rule\n",
    "                    # x existe ahora en el ambito global con valor 3\n",
    "\n",
    "all_global()\n",
    "print('x = %d, y = %d, z = %d' % (x, y, z))\n"
   ]
  },
  {
   "source": [
    "## NESTED SCOPES\n"
   ],
   "cell_type": "markdown",
   "metadata": {}
  },
  {
   "cell_type": "code",
   "execution_count": 4,
   "metadata": {},
   "outputs": [
    {
     "output_type": "stream",
     "name": "stdout",
     "text": [
      "x local =  88\nx global =  99\n"
     ]
    }
   ],
   "source": [
    "\n",
    "x = 99                      # Global scope name: not used\n",
    "\n",
    "def f1():\n",
    "    x = 88\n",
    "    def f2():               # Enclosing def local\n",
    "        print(\"x local = \", x)    # Reference made in nested def\n",
    "    f2()                    # f2 is a temporary function that lives only during the execution                               of (and is visible only to code in) the enclosing f1\n",
    "\n",
    "f1()                        # Prints 88: enclosing def local\n",
    "print(\"x global = \", x)     # salida: X = 88; X sigue valiendo 99\n",
    "\n",
    "# f2()  NameError: name 'f2' is not defined  No se puede invocar a f2() desde el modulo principal\n"
   ]
  },
  {
   "source": [
    "## Factory Functions: Closures\n",
    "\n",
    "A **closure** or a **factory function**, the former describing a **functional programming technique**, and the latter denoting a **design pattern**.\n",
    "The function object in question remembers values in enclosing scopes regardless of whether those scopes are still present in memory."
   ],
   "cell_type": "markdown",
   "metadata": {}
  },
  {
   "cell_type": "code",
   "execution_count": 6,
   "metadata": {},
   "outputs": [
    {
     "output_type": "stream",
     "name": "stdout",
     "text": [
      "x = 88\n"
     ]
    }
   ],
   "source": [
    "def f1():\n",
    "\tx = 88                 # enclosing scope\n",
    "\tdef f2():\n",
    "\t\tprint(\"x =\", x)    # Remembers x in enclosing def scope\n",
    "\treturn f2 \t           # Return f2 but don't call it => f1() devuelve el objeto funcion con                              nombre (referencia) f2\n",
    "\n",
    "action = f1()       # Make, return function => action es ahora una función: action = f2\n",
    "action() \t\t\t# Call it now: prints 88  == f2()\n",
    "\n",
    "# Functions are objects in Python like everything else, and can be passed back as return values from other functions. \n",
    "# Most importantly, f2 remembers the enclosing scope’s x in f1 , even though f1 is no longer active."
   ]
  },
  {
   "cell_type": "code",
   "execution_count": 8,
   "metadata": {},
   "outputs": [
    {
     "output_type": "execute_result",
     "data": {
      "text/plain": [
       "16"
      ]
     },
     "metadata": {},
     "execution_count": 8
    }
   ],
   "source": [
    "def maker(n):\n",
    "\tdef action(x):\t\t# Make and return action\n",
    "\t\treturn x ** n \t# action retains n from enclosing scope\n",
    "\treturn action\n",
    "\n",
    "f = maker(2)            # Pass 2 to argument n -> return x ** 2\n",
    "f(3)                    # Pass 3 to x, n remembers \"2\" -> return 3 ** 2\n",
    "\n",
    "f(4)\t\t            # return 4 ** 2"
   ]
  }
 ]
}