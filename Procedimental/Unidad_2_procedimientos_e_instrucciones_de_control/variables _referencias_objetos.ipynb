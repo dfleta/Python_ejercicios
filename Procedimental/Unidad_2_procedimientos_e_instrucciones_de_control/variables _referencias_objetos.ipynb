{
 "metadata": {
  "language_info": {
   "codemirror_mode": {
    "name": "ipython",
    "version": 3
   },
   "file_extension": ".py",
   "mimetype": "text/x-python",
   "name": "python",
   "nbconvert_exporter": "python",
   "pygments_lexer": "ipython3",
   "version": "3.6.9-final"
  },
  "orig_nbformat": 2,
  "kernelspec": {
   "name": "python36964bit726dce05b3144e9e80719d87a8e14857",
   "display_name": "Python 3.6.9 64-bit"
  }
 },
 "nbformat": 4,
 "nbformat_minor": 2,
 "cells": [
  {
   "source": [
    "# Chapter 6: The Dynamic Typing Interlude\n",
    "\n",
    "#### Extractos de codigo del libro Learning Python 5th Ed. by Mark Lutz "
   ],
   "cell_type": "markdown",
   "metadata": {}
  },
  {
   "source": [
    "## OBJETOS INMUTABLES\n"
   ],
   "cell_type": "markdown",
   "metadata": {}
  },
  {
   "cell_type": "code",
   "execution_count": 2,
   "metadata": {},
   "outputs": [
    {
     "output_type": "stream",
     "name": "stdout",
     "text": [
      "b es  3\nb es  3\n"
     ]
    }
   ],
   "source": [
    "\n",
    "a = 3\n",
    "b = a       # b es 3\n",
    "print(\"b es \", b)\n",
    "\n",
    "a = 3\n",
    "b = a\n",
    "a = 'spam'  # b es 3\n",
    "print(\"b es \", b)"
   ]
  },
  {
   "source": [
    "Los objetos `integer` no son mutables:\n"
   ],
   "cell_type": "markdown",
   "metadata": {}
  },
  {
   "cell_type": "code",
   "execution_count": 3,
   "metadata": {},
   "outputs": [
    {
     "output_type": "stream",
     "name": "stdout",
     "text": [
      "b es  3\n"
     ]
    }
   ],
   "source": [
    "a = 3\n",
    "b = a\n",
    "a = a + 2       # b es 3\n",
    "print(\"b es \", b)"
   ]
  },
  {
   "source": [
    "## OBJETOS MUTABLES\n",
    "\n",
    "### Listas"
   ],
   "cell_type": "markdown",
   "metadata": {}
  },
  {
   "cell_type": "code",
   "execution_count": 6,
   "metadata": {},
   "outputs": [
    {
     "output_type": "stream",
     "name": "stdout",
     "text": [
      "L =  [24, 3, 4]\nM =  [24, 3, 4]\n"
     ]
    }
   ],
   "source": [
    "\n",
    "L = [2, 3, 4]\t    # A mutable object\n",
    "M = L\t\t\t    # Make a reference to the same object\n",
    "L[0] = 24 \t\t    # An in-place change\n",
    "\n",
    "print(\"L = \", L)                   # [24, 3, 4]\n",
    "print(\"M = \", M)                   # [24, 3, 4]"
   ]
  },
  {
   "source": [
    "Copia de objetos en vez de referencia:\n"
   ],
   "cell_type": "markdown",
   "metadata": {}
  },
  {
   "cell_type": "code",
   "execution_count": 7,
   "metadata": {},
   "outputs": [
    {
     "output_type": "stream",
     "name": "stdout",
     "text": [
      "L =  [24, 3, 4]\nM =  [2, 3, 4]\n"
     ]
    }
   ],
   "source": [
    "\n",
    "L = [2, 3, 4]\n",
    "M = L[:]\t\t    # Make a copy of L (or list(L), copy.copy(L), etc.)\n",
    "L[0] = 24\n",
    "\n",
    "print(\"L = \", L)    # [24, 3, 4]\n",
    "\n",
    "print(\"M = \", M)    # [2, 3, 4]  M is not changed"
   ]
  },
  {
   "source": [
    "### Shared References and Equality\n",
    "- Operador `==` igualdad de valores.\n",
    "- Operador `is` identidad de objetos."
   ],
   "cell_type": "markdown",
   "metadata": {}
  },
  {
   "cell_type": "code",
   "execution_count": 11,
   "metadata": {},
   "outputs": [
    {
     "output_type": "execute_result",
     "data": {
      "text/plain": [
       "True"
      ]
     },
     "metadata": {},
     "execution_count": 11
    }
   ],
   "source": [
    "\n",
    "L = [1, 2, 3]\n",
    "M = L \t\t\t    # M and L reference the same object\n",
    "\n",
    "L == M \t\t\t    # True: Same values => operador igualdad de valores\n",
    "L is M \t\t\t    # True: operador identidad de objetos: compara las referencias (los punteros)\n"
   ]
  },
  {
   "cell_type": "code",
   "execution_count": 15,
   "metadata": {},
   "outputs": [
    {
     "output_type": "stream",
     "name": "stdout",
     "text": [
      "L == M True\nL is M False\n"
     ]
    }
   ],
   "source": [
    "L = [1, 2, 3]\n",
    "M = [1, 2, 3]\t    # M and L reference different objects\n",
    "\n",
    "print(\n",
    "    \"L == M\",\n",
    "    L == M \t\t\t# True: Same values\n",
    ")\n",
    "\n",
    "print(\n",
    "    \"L is M\", \t# False: operador identidad de objetos: compara las referencias (los punteros)\n",
    "    L is M\n",
    ")\n"
   ]
  },
  {
   "source": [
    "#### CACHE\n",
    "\n",
    "Because small integers and strings are cached and reused, though, is tells us they reference the same single object.\n"
   ],
   "cell_type": "markdown",
   "metadata": {}
  },
  {
   "cell_type": "code",
   "execution_count": null,
   "metadata": {},
   "outputs": [],
   "source": [
    "\n",
    "X = 42\n",
    "Y = 42\t\t    # Should be two different objects\n",
    "\n",
    "X  == Y         # True\n",
    "X is Y \t\t    # True: Same object anyhow: caching at work!!!!!!!!\n"
   ]
  },
  {
   "source": [
    "Averiguar el numero de refencias a un objeto:\n"
   ],
   "cell_type": "markdown",
   "metadata": {}
  },
  {
   "cell_type": "code",
   "execution_count": 16,
   "metadata": {},
   "outputs": [
    {
     "output_type": "execute_result",
     "data": {
      "text/plain": [
       "3514"
      ]
     },
     "metadata": {},
     "execution_count": 16
    }
   ],
   "source": [
    "import sys\n",
    "sys.getrefcount(1)\t\t# number of pointers to this shared piece of memory"
   ]
  }
 ]
}